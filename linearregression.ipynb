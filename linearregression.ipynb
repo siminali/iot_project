{
 "cells": [
  {
   "cell_type": "code",
   "execution_count": 1,
   "metadata": {},
   "outputs": [
    {
     "name": "stdout",
     "output_type": "stream",
     "text": [
      "Mean Squared Error (MSE): 0.27941954211397124\n",
      "R-squared (R²): 0.3355219888862445\n",
      "                             Feature  Coefficient\n",
      "0   traffic_data.duration_in_traffic     0.000115\n",
      "1     air_quality_data.components.co     0.000712\n",
      "2  air_quality_data.components.pm2_5     0.036737\n",
      "Predicted Traffic Duration: 4.291792957619675\n"
     ]
    },
    {
     "name": "stderr",
     "output_type": "stream",
     "text": [
      "/Users/siminali/Library/Python/3.9/lib/python/site-packages/sklearn/base.py:493: UserWarning: X does not have valid feature names, but LinearRegression was fitted with feature names\n",
      "  warnings.warn(\n"
     ]
    }
   ],
   "source": [
    "import pandas as pd\n",
    "import numpy as np\n",
    "from sklearn.model_selection import train_test_split\n",
    "from sklearn.linear_model import LinearRegression\n",
    "from sklearn.metrics import mean_squared_error, r2_score\n",
    "\n",
    "# Load data\n",
    "data = pd.read_csv('cosmos_db_export.csv')\n",
    "\n",
    "# Ensure 'timestamp' is in datetime format\n",
    "data['timestamp'] = pd.to_datetime(data['timestamp'])\n",
    "data = data[data['timestamp'] >= '2024-12-03']\n",
    "\n",
    "# Select relevant columns\n",
    "# Assuming columns: 'traffic_data.duration_in_traffic', 'air_quality_data.air_quality_index', and additional features\n",
    "data = data[['traffic_data.duration_in_traffic', 'air_quality_data.air_quality_index', 'air_quality_data.components.co', 'air_quality_data.components.pm2_5']]\n",
    "\n",
    "# Handle missing values (fill with mean as an example)\n",
    "data.fillna(data.mean(), inplace=True)\n",
    "\n",
    "# Define features (X) and target (y)\n",
    "X = data[['traffic_data.duration_in_traffic', 'air_quality_data.components.co', 'air_quality_data.components.pm2_5']]  # Features\n",
    "y = data['air_quality_data.air_quality_index']  # Target (traffic duration)\n",
    "\n",
    "# Split into training and testing sets\n",
    "X_train, X_test, y_train, y_test = train_test_split(X, y, test_size=0.2, random_state=42)\n",
    "\n",
    "# Train the regression model\n",
    "model = LinearRegression()\n",
    "model.fit(X_train, y_train)\n",
    "\n",
    "# Make predictions\n",
    "y_pred = model.predict(X_test)\n",
    "\n",
    "# Evaluate the model\n",
    "mse = mean_squared_error(y_test, y_pred)\n",
    "r2 = r2_score(y_test, y_pred)\n",
    "\n",
    "print(\"Mean Squared Error (MSE):\", mse)\n",
    "print(\"R-squared (R²):\", r2)\n",
    "\n",
    "# Display model coefficients\n",
    "coefficients = pd.DataFrame({'Feature': X.columns, 'Coefficient': model.coef_})\n",
    "print(coefficients)\n",
    "\n",
    "# Optional: Predict traffic duration for a new sample\n",
    "sample_data = np.array([[50, 20, 80]])  # Example: AQI=50, temperature=20°C, air_quality_data.components.pm2_5=80%\n",
    "predicted_duration = model.predict(sample_data)\n",
    "print(\"Predicted Traffic Duration:\", predicted_duration[0])\n"
   ]
  }
 ],
 "metadata": {
  "kernelspec": {
   "display_name": "Python 3",
   "language": "python",
   "name": "python3"
  },
  "language_info": {
   "codemirror_mode": {
    "name": "ipython",
    "version": 3
   },
   "file_extension": ".py",
   "mimetype": "text/x-python",
   "name": "python",
   "nbconvert_exporter": "python",
   "pygments_lexer": "ipython3",
   "version": "3.9.6"
  }
 },
 "nbformat": 4,
 "nbformat_minor": 2
}
